{
 "cells": [
  {
   "cell_type": "code",
   "execution_count": 1,
   "metadata": {
    "collapsed": true,
    "deletable": true,
    "editable": true
   },
   "outputs": [],
   "source": [
    "import tensorflow as tf\n",
    "import numpy as np"
   ]
  },
  {
   "cell_type": "code",
   "execution_count": 3,
   "metadata": {
    "collapsed": false,
    "deletable": true,
    "editable": true
   },
   "outputs": [],
   "source": [
    "xy = np.loadtxt(\"train.txt\", unpack=True)\n",
    "x_data = np.transpose(xy[:-1])\n",
    "y_data = np.reshape(xy[-1], (4, 1))\n",
    "\n",
    "X = tf.placeholder(tf.float32, name ='X_input')\n",
    "Y = tf.placeholder(tf.float32, name ='Y_input')\n",
    "\n",
    "W1 = tf.Variable(tf.random_uniform([2, 2], -1.0, 1.0), name='weight1')\n",
    "W2 = tf.Variable(tf.random_uniform([2, 1], -1.0, 1.0), name='weight2')\n",
    "\n",
    "b1 = tf.Variable(tf.zeros([2]), name='Bias1')\n",
    "b2 = tf.Variable(tf.zeros([1]), name='Bias2')\n",
    "\n",
    "with tf.name_scope(\"layer2\") as scope:\n",
    "    L2 = tf.sigmoid(tf.matmul(X, W1) + b1)\n",
    "\n",
    "with tf.name_scope(\"layer3\") as scope:\n",
    "    hypothesis = tf.sigmoid(tf.matmul(L2, W2) + b2)\n",
    "\n",
    "with tf.name_scope(\"cost\") as scope:\n",
    "    cost = -tf.reduce_mean(Y * tf.log(hypothesis) + (1 - Y) * tf.log(1 - hypothesis))\n",
    "    cost_summ =tf.summary.scalar(\"cost\",cost)\n",
    "    \n",
    "with tf.name_scope(\"train\") as scope:\n",
    "    optimizer = tf.train.GradientDescentOptimizer(0.01)\n",
    "    train = optimizer.minimize(cost)\n",
    "\n",
    "w1_hist = tf.summary.histogram('weights1', W1)\n",
    "w2_hist = tf.summary.histogram('weights2', W2)\n",
    "b1_hist = tf.summary.histogram('biases1', b1)\n",
    "b2_hist = tf.summary.histogram('biases2', b2)\n",
    "y_hist =tf.summary.histogram('y',Y)\n",
    "    \n",
    "init = tf.global_variables_initializer()\n",
    "\n",
    "with tf.Session() as sess:\n",
    "    sess.run(init)\n",
    "    \n",
    "    merged =tf.summary.merge([cost_summ,w1_hist,w2_hist,b1_hist,b2_hist,y_hist])\n",
    "    writer =tf.summary.FileWriter('./logs/xor_logs',sess.graph)\n",
    "\n",
    "    for step in range(20000):\n",
    "        sess.run(train, feed_dict={X:x_data, Y: y_data})\n",
    "        if step % 2000 == 0:\n",
    "            summary = sess.run(merged, feed_dict={X:x_data, Y:y_data})\n",
    "            writer.add_summary(summary, step)\n",
    "    \n",
    "    #correct_prediction = tf.equal(tf.floor(hypothesis+0.5), Y)\n",
    "    #accuracy =tf.reduce_mean(tf.cast(correct_prediction, 'float'))\n",
    "    #param = [hypothesis,tf.floor(hypothesis+0.5),correct_prediction, accuracy]\n",
    "    #result = sess.run(param, feed_dict={X:x_data, Y:y_data})\n",
    "    \n",
    "    #print(*result[0])\n",
    "    #print(*result[1])\n",
    "    #print(*result[2])\n",
    "    #print(result[-1])\n",
    "    #print('Accuracy:', accuracy.eval({X:x_data, Y:y_data}))\n",
    "\n"
   ]
  },
  {
   "cell_type": "code",
   "execution_count": null,
   "metadata": {
    "collapsed": true,
    "deletable": true,
    "editable": true
   },
   "outputs": [],
   "source": []
  },
  {
   "cell_type": "code",
   "execution_count": null,
   "metadata": {
    "collapsed": true,
    "deletable": true,
    "editable": true
   },
   "outputs": [],
   "source": []
  }
 ],
 "metadata": {
  "kernelspec": {
   "display_name": "Python 3",
   "language": "python",
   "name": "python3"
  },
  "language_info": {
   "codemirror_mode": {
    "name": "ipython",
    "version": 3
   },
   "file_extension": ".py",
   "mimetype": "text/x-python",
   "name": "python",
   "nbconvert_exporter": "python",
   "pygments_lexer": "ipython3",
   "version": "3.5.2"
  }
 },
 "nbformat": 4,
 "nbformat_minor": 0
}
