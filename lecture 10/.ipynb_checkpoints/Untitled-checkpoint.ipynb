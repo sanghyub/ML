{
 "cells": [
  {
   "cell_type": "code",
   "execution_count": 1,
   "metadata": {
    "collapsed": false,
    "deletable": true,
    "editable": true
   },
   "outputs": [
    {
     "name": "stdout",
     "output_type": "stream",
     "text": [
      "Extracting MNIST_data/train-images-idx3-ubyte.gz\n",
      "Extracting MNIST_data/train-labels-idx1-ubyte.gz\n",
      "Extracting MNIST_data/t10k-images-idx3-ubyte.gz\n",
      "Extracting MNIST_data/t10k-labels-idx1-ubyte.gz\n"
     ]
    }
   ],
   "source": [
    "import tensorflow as tf\n",
    "import random\n",
    "import matplotlib.pyplot as plt\n",
    "\n",
    "from tensorflow.examples.tutorials.mnist import input_data\n",
    "mnist = input_data.read_data_sets(\"MNIST_data/\" , one_hot=True)"
   ]
  },
  {
   "cell_type": "code",
   "execution_count": 2,
   "metadata": {
    "collapsed": false,
    "deletable": true,
    "editable": true
   },
   "outputs": [],
   "source": [
    "def xavier_init(n_inputs,n_outputs, uniform=True):\n",
    "    if uniform:\n",
    "        init_range=tf.sqrt(6.0/(n_inputs+n_outputs))\n",
    "        return tf.random_uniform_initializer(-init_range, init_range)\n",
    "    else:\n",
    "        stddev = tf.sqrt(3.0/(n_inputs + n_outputs))\n",
    "        return tf.truncated_normal_initializer(stddev=stddev)\n"
   ]
  },
  {
   "cell_type": "code",
   "execution_count": 3,
   "metadata": {
    "collapsed": false
   },
   "outputs": [],
   "source": [
    "learning_rate = 0.001\n",
    "training_epochs = 15\n",
    "batch_size = 100\n",
    "display_step =1\n",
    "\n",
    "X = tf.placeholder(tf.float32, [None, 784])\n",
    "Y = tf.placeholder(tf.float32, [None, 10])\n",
    "dropout_rate = tf.placeholder(\"float\")\n",
    "\n",
    "W1 = tf.get_variable(\"W1\", shape=[784, 256], initializer=xavier_init(784, 256))\n",
    "W2 = tf.get_variable(\"W2\", shape=[256, 256], initializer=xavier_init(256, 256))\n",
    "W3 = tf.get_variable(\"W3\", shape=[256, 256], initializer=xavier_init(256, 256))\n",
    "W4 = tf.get_variable(\"W4\", shape=[256, 256], initializer=xavier_init(256, 256))\n",
    "W5 = tf.get_variable(\"W5\", shape=[256,  10], initializer=xavier_init(256,  10))\n",
    "\n",
    "B1 = tf.Variable(tf.random_normal([256]))\n",
    "B2 = tf.Variable(tf.random_normal([256]))\n",
    "B3 = tf.Variable(tf.random_normal([256]))\n",
    "B4 = tf.Variable(tf.random_normal([256]))\n",
    "B5 = tf.Variable(tf.random_normal([10]))\n",
    "\n",
    "_L1 = tf.nn.relu(tf.add(tf.matmul(X,W1),B1))\n",
    "L1  =tf.nn.dropout(_L1, dropout_rate )\n",
    "_L2 = tf.nn.relu(tf.add(tf.matmul(L1,W2),B2))\n",
    "L2  =tf.nn.dropout(_L2, dropout_rate)\n",
    "_L3 = tf.nn.relu(tf.add(tf.matmul(L2,W3),B3))\n",
    "L3  =tf.nn.dropout(_L3, dropout_rate)\n",
    "_L4 = tf.nn.relu(tf.add(tf.matmul(L3,W4),B4))\n",
    "L4  =tf.nn.dropout(_L4, dropout_rate)\n",
    "hypothesis = tf.add(tf.matmul(L4, W5), B5)\n",
    "\n",
    "cost = tf.reduce_mean(tf.nn.softmax_cross_entropy_with_logits(labels=Y,logits=hypothesis))\n",
    "optimizer = tf.train.AdamOptimizer(learning_rate).minimize(cost)\n",
    "\n",
    "init = tf.global_variables_initializer()"
   ]
  },
  {
   "cell_type": "code",
   "execution_count": 4,
   "metadata": {
    "collapsed": false
   },
   "outputs": [
    {
     "name": "stdout",
     "output_type": "stream",
     "text": [
      "Epoch: 0001 cost = 0.578427750\n",
      "Epoch: 0002 cost = 0.211947450\n",
      "Epoch: 0003 cost = 0.161339459\n",
      "Epoch: 0004 cost = 0.129860303\n",
      "Epoch: 0005 cost = 0.111176618\n",
      "Epoch: 0006 cost = 0.100552992\n",
      "Epoch: 0007 cost = 0.089899302\n",
      "Epoch: 0008 cost = 0.083034120\n",
      "Epoch: 0009 cost = 0.077366428\n",
      "Epoch: 0010 cost = 0.074403891\n",
      "Epoch: 0011 cost = 0.068209694\n",
      "Epoch: 0012 cost = 0.064344089\n",
      "Epoch: 0013 cost = 0.060650985\n",
      "Epoch: 0014 cost = 0.056408020\n",
      "Epoch: 0015 cost = 0.053173055\n",
      "Learning finished\n",
      "Accuracy:  0.9802\n"
     ]
    }
   ],
   "source": [
    "with tf.Session() as sess:\n",
    "    sess.run(init)\n",
    "    \n",
    "    for epoch in range(training_epochs):\n",
    "        avg_cost = 0\n",
    "        total_batch = int(mnist.train.num_examples / batch_size)\n",
    "        for i in range(total_batch):\n",
    "            batch_xs, batch_ys = mnist.train.next_batch(batch_size)\n",
    "            sess.run(optimizer, feed_dict={X: batch_xs, Y: batch_ys, dropout_rate:0.7})\n",
    "\n",
    "            avg_cost += sess.run(cost, feed_dict={X:batch_xs, Y:batch_ys, dropout_rate:0.7})/ total_batch\n",
    "            \n",
    "        if epoch% display_step ==0:\n",
    "             print('Epoch:', '%04d' % (epoch + 1),'cost =', '{:.9f}'.format(avg_cost))\n",
    "\n",
    "    print(\"Learning finished\")\n",
    "    \n",
    "    correct_prediction = tf.equal(tf.argmax(hypothesis,1), tf.argmax(Y,1))\n",
    "    accuracy =tf.reduce_mean(tf.cast(correct_prediction,\"float\"))\n",
    "    print(\"Accuracy: \", accuracy.eval(feed_dict = {X: mnist.test.images, Y: mnist.test.labels, dropout_rate:1}))\n",
    "    # Test the model using test sets\n",
    "   \n",
    "   "
   ]
  },
  {
   "cell_type": "code",
   "execution_count": null,
   "metadata": {
    "collapsed": true
   },
   "outputs": [],
   "source": []
  }
 ],
 "metadata": {
  "kernelspec": {
   "display_name": "Python 3",
   "language": "python",
   "name": "python3"
  },
  "language_info": {
   "codemirror_mode": {
    "name": "ipython",
    "version": 3
   },
   "file_extension": ".py",
   "mimetype": "text/x-python",
   "name": "python",
   "nbconvert_exporter": "python",
   "pygments_lexer": "ipython3",
   "version": "3.5.2"
  }
 },
 "nbformat": 4,
 "nbformat_minor": 2
}
