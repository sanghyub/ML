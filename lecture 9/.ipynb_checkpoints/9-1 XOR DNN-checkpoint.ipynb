{
 "cells": [
  {
   "cell_type": "code",
   "execution_count": 1,
   "metadata": {
    "collapsed": true,
    "deletable": true,
    "editable": true
   },
   "outputs": [],
   "source": [
    "import tensorflow as tf\n",
    "import numpy as np"
   ]
  },
  {
   "cell_type": "code",
   "execution_count": 10,
   "metadata": {
    "collapsed": false,
    "deletable": true,
    "editable": true
   },
   "outputs": [
    {
     "name": "stdout",
     "output_type": "stream",
     "text": [
      " 1000 0.69334632 [[ 0.43023393 -0.45653588  0.08466066  0.05729712]] [[-0.13112551  0.664662  ]]\n",
      " 2000 0.69321042 [[ 0.41298527 -0.4216288   0.06861989  0.12297667]] [[-0.07660515  0.6188671 ]]\n",
      " 3000 0.69312227 [[ 0.40537313 -0.42193791  0.06175933  0.17085698]] [[-0.03157881  0.59094787]]\n",
      " 4000 0.69300759 [[ 0.40390977 -0.454391    0.06048786  0.22316286]] [[ 0.00905561  0.57676464]]\n",
      " 5000 0.69276130 [[ 0.40781021 -0.53181762  0.06330989  0.29799217]] [[ 0.04869865  0.58289832]]\n",
      " 6000 0.69194400 [[ 0.41871083 -0.69698745  0.06899743  0.43218529]] [[ 0.09072617  0.63987505]]\n",
      " 7000 0.68698847 [[ 0.44486418 -1.1050657   0.07262639  0.76143885]] [[ 0.14191112  0.88686156]]\n",
      " 8000 0.63954675 [[ 0.53686756 -2.29217005  0.02714196  1.85573232]] [[ 0.24647927  1.9312073 ]]\n",
      " 9000 0.52514976 [[ 1.00051713 -3.97114468 -0.58660591  3.4666667 ]] [[ 0.99379796  3.64139271]]\n",
      "10000 0.20010045 [[ 2.94713283 -5.03286409 -3.26711535  4.74424124]] [[ 4.36587     5.31912136]]\n",
      "--------------------------------------------------\n",
      "[ 0.21071593] [ 0.90120316] [ 0.76478344] [ 0.17435111]\n",
      "[ 0.] [ 1.] [ 1.] [ 0.]\n",
      "[ True] [ True] [ True] [ True]\n",
      "1.0\n",
      "Accuracy 1.0\n"
     ]
    }
   ],
   "source": [
    "xy = np.loadtxt(\"train.txt\", unpack=True)\n",
    "x_data = np.transpose(xy[:-1])\n",
    "y_data = np.reshape(xy[-1], (4, 1))\n",
    "\n",
    "X = tf.placeholder(tf.float32)\n",
    "Y = tf.placeholder(tf.float32)\n",
    "\n",
    "W1 = tf.Variable(tf.random_uniform([2, 2], -1.0, 1.0))\n",
    "W2 = tf.Variable(tf.random_uniform([2, 1], -1.0, 1.0))\n",
    "\n",
    "b1 = tf.Variable(tf.zeros([2]))\n",
    "b2 = tf.Variable(tf.zeros([1]))\n",
    "\n",
    "L2 = tf.sigmoid(tf.matmul(X, W1) + b1)\n",
    "hypothesis = tf.sigmoid(tf.matmul(L2, W2) + b2)\n",
    "\n",
    "cost = -tf.reduce_mean(Y * tf.log(hypothesis) + (1 - Y) * tf.log(1 - hypothesis))\n",
    "\n",
    "rate = tf.Variable(0.1)\n",
    "optimizer = tf.train.GradientDescentOptimizer(rate)\n",
    "train = optimizer.minimize(cost)\n",
    "\n",
    "init = tf.global_variables_initializer()\n",
    "\n",
    "with tf.Session() as sess:\n",
    "    sess.run(init)\n",
    "\n",
    "    for step in range(10000):\n",
    "        sess.run(train, feed_dict={X: x_data, Y: y_data})\n",
    "        if step % 1000 == 999:\n",
    "            r1, (r2, r3) = sess.run(cost, feed_dict={X: x_data, Y: y_data}), sess.run([W1, W2])\n",
    "            print('{:5} {:10.8f} {} {}'.format(step+1, r1, np.reshape(r2, (1,4)), np.reshape(r3, (1,2))))\n",
    "    print('-'*50)\n",
    "    \n",
    "    correct_prediction = tf.equal(tf.floor(hypothesis+0.5), Y)\n",
    "    accuracy =tf.reduce_mean(tf.cast(correct_prediction, 'float'))\n",
    "    param = [hypothesis,tf.floor(hypothesis+0.5),correct_prediction, accuracy]\n",
    "    result = sess.run(param, feed_dict={X:x_data, Y:y_data})\n",
    "    \n",
    "    print(*result[0])\n",
    "    print(*result[1])\n",
    "    print(*result[2])\n",
    "    print(result[-1])\n",
    "    print('Accuracy:', accuracy.eval({X:x_data, Y:y_data}))\n",
    "\n"
   ]
  },
  {
   "cell_type": "code",
   "execution_count": null,
   "metadata": {
    "collapsed": true,
    "deletable": true,
    "editable": true
   },
   "outputs": [],
   "source": []
  }
 ],
 "metadata": {
  "kernelspec": {
   "display_name": "Python 3",
   "language": "python",
   "name": "python3"
  },
  "language_info": {
   "codemirror_mode": {
    "name": "ipython",
    "version": 3
   },
   "file_extension": ".py",
   "mimetype": "text/x-python",
   "name": "python",
   "nbconvert_exporter": "python",
   "pygments_lexer": "ipython3",
   "version": "3.5.2"
  }
 },
 "nbformat": 4,
 "nbformat_minor": 0
}
